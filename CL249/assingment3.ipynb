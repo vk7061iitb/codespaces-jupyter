{
 "cells": [
  {
   "cell_type": "code",
   "execution_count": 86,
   "metadata": {},
   "outputs": [],
   "source": [
    "import numpy as np\n",
    "import matplotlib.pyplot as plt\n",
    "import math"
   ]
  },
  {
   "cell_type": "markdown",
   "metadata": {},
   "source": [
    "# Question 1"
   ]
  },
  {
   "cell_type": "code",
   "execution_count": 87,
   "metadata": {},
   "outputs": [],
   "source": [
    "def bisection_method(f, a, b, tol=1e-5):\n",
    "    if f(a) * f(b) >= 0:\n",
    "        raise ValueError(\"Function must have different signs at the endpoints a and b.\")\n",
    "    iter_count = 0\n",
    "    error = []\n",
    "    while (b - a) / 2 > tol:\n",
    "        error.append((b - a) / 2)\n",
    "        c = (a + b) / 2\n",
    "        if f(c) == 0:\n",
    "            return c\n",
    "        elif f(a) * f(c) < 0:\n",
    "            b = c\n",
    "        else:\n",
    "            a = c\n",
    "        iter_count += 1\n",
    "\n",
    "    return (a + b)/2,iter_count, error"
   ]
  },
  {
   "cell_type": "code",
   "execution_count": 88,
   "metadata": {},
   "outputs": [],
   "source": [
    "def secant_method(f, x0, x1, tol=1e-5):\n",
    "    iter_count = 0   \n",
    "    error = []  \n",
    "    while abs(x1 - x0) > tol:\n",
    "        if f(x1) - f(x0) == 0:\n",
    "            raise ValueError(\"Division by zero in the secant method.\")\n",
    "        error.append(abs(x1 - x0))\n",
    "        x2 = x1 - f(x1) * (x1 - x0) / (f(x1) - f(x0))\n",
    "        x0, x1 = x1, x2\n",
    "        iter_count += 1\n",
    "\n",
    "    return x1,iter_count,error"
   ]
  },
  {
   "cell_type": "code",
   "execution_count": 89,
   "metadata": {},
   "outputs": [],
   "source": [
    "def newton_raphson_method(f, f_prime, x0, tol=1e-5):\n",
    "    iter_count = 0\n",
    "    error = []\n",
    "    while abs(f(x0)) > tol:\n",
    "        if f_prime(x0) == 0:\n",
    "            raise ValueError(\"Derivative is zero. No solution found.\")\n",
    "        error.append(abs(f(x0)))\n",
    "        x0 = x0 - f(x0) / f_prime(x0)\n",
    "        iter_count += 1\n",
    "\n",
    "    return x0,iter_count,error"
   ]
  },
  {
   "cell_type": "code",
   "execution_count": 90,
   "metadata": {},
   "outputs": [],
   "source": [
    "def fixed_point_iteration(g, x0, tol=1e-5):\n",
    "    x = x0\n",
    "    iter_count = 0  \n",
    "    error = [] \n",
    "    while True:\n",
    "        x_new = g(x)\n",
    "        iter_count += 1\n",
    "        if abs(x_new - x) < tol:\n",
    "            return x_new, iter_count, error\n",
    "        error.append(abs(x_new - x))\n",
    "        x = x_new"
   ]
  },
  {
   "cell_type": "markdown",
   "metadata": {},
   "source": [
    "### Solving : $ x^2 - 4x + 3 = 0 $"
   ]
  },
  {
   "cell_type": "code",
   "execution_count": 91,
   "metadata": {},
   "outputs": [],
   "source": [
    "def f_1(x):\n",
    "    return x**2 - 4*x + 3\n",
    "\n",
    "def f_prime_1(x):\n",
    "    return 2*x - 4\n",
    "\n",
    "def g_1(x):\n",
    "    if x == 0:\n",
    "        raise ValueError(\"Initial guess cannot be zero for this function.\")\n",
    "    return (4 * x - 3) / x"
   ]
  },
  {
   "cell_type": "code",
   "execution_count": 92,
   "metadata": {},
   "outputs": [
    {
     "name": "stdout",
     "output_type": "stream",
     "text": [
      "Bisection Method for 1st equation: (1.000001335144043, 18)\n"
     ]
    }
   ],
   "source": [
    "# Bisection Method\n",
    "a_bisec,b_bisec,error_bisec = bisection_method(f_1, 0, 2.7)\n",
    "print(\"Bisection Method for 1st equation:\", (a_bisec,b_bisec))"
   ]
  },
  {
   "cell_type": "code",
   "execution_count": 93,
   "metadata": {},
   "outputs": [
    {
     "name": "stdout",
     "output_type": "stream",
     "text": [
      "Secant Method for 1st equation: (0.9999999998088019, 8)\n"
     ]
    }
   ],
   "source": [
    "# Secant Method\n",
    "a_sec,b_sec,error_sec = secant_method(f_1, 0, 2)\n",
    "print(\"Secant Method for 1st equation:\", (a_sec,b_sec))"
   ]
  },
  {
   "cell_type": "code",
   "execution_count": 94,
   "metadata": {},
   "outputs": [
    {
     "name": "stdout",
     "output_type": "stream",
     "text": [
      "Newton-Raphson Method for 1st equation: (3.0000000464611474, 4)\n"
     ]
    }
   ],
   "source": [
    "# Newton-Raphson Method\n",
    "a_newton,b_newton,error_newton = newton_raphson_method(f_1, f_prime_1, 4)\n",
    "print(\"Newton-Raphson Method for 1st equation:\", (a_newton,b_newton))"
   ]
  },
  {
   "cell_type": "code",
   "execution_count": 95,
   "metadata": {},
   "outputs": [
    {
     "name": "stdout",
     "output_type": "stream",
     "text": [
      "Fixed-Point Iteration for 1st equation: (3.0000037633599277, 11)\n"
     ]
    }
   ],
   "source": [
    "# Fixed-Point Iteration\n",
    "a_fixed,b_fixed,error_fixed = fixed_point_iteration(g_1, 4)\n",
    "print(\"Fixed-Point Iteration for 1st equation:\", (a_fixed,b_fixed))"
   ]
  },
  {
   "cell_type": "markdown",
   "metadata": {},
   "source": [
    "### Solving : $ x^3-6x^2+11x-6=0$"
   ]
  },
  {
   "cell_type": "code",
   "execution_count": 96,
   "metadata": {},
   "outputs": [],
   "source": [
    "def f_2(x):\n",
    "    return x**3 - 6*x**2 + 11*x - 6\n",
    "\n",
    "def f_prime_2(x):\n",
    "    return 3*x**2 - 12*x + 11\n",
    "\n",
    "def g_2(x):\n",
    "    if x == 0:\n",
    "        raise ValueError(\"Initial guess cannot be zero for this function.\")\n",
    "    return (6*x**2 - 11*x + 6) / x**2"
   ]
  },
  {
   "cell_type": "code",
   "execution_count": 97,
   "metadata": {},
   "outputs": [
    {
     "name": "stdout",
     "output_type": "stream",
     "text": [
      "Bisection Method for 2nd equation: (1.0000019073486328, 17)\n"
     ]
    }
   ],
   "source": [
    "# Bisection Method\n",
    "a_bisec,b_bisec,error_bisec = bisection_method(f_2, 0, 1.5)\n",
    "print(\"Bisection Method for 2nd equation:\", (a_bisec,b_bisec))"
   ]
  },
  {
   "cell_type": "code",
   "execution_count": 98,
   "metadata": {},
   "outputs": [
    {
     "name": "stdout",
     "output_type": "stream",
     "text": [
      "Secant Method for 2nd equation: (1.0000000021179531, 12)\n"
     ]
    }
   ],
   "source": [
    "# Secant Method\n",
    "a_sec,b_sec,error_sec = secant_method(f_2, 0, 1.5)\n",
    "print(\"Secant Method for 2nd equation:\", (a_sec,b_sec))"
   ]
  },
  {
   "cell_type": "code",
   "execution_count": 99,
   "metadata": {},
   "outputs": [
    {
     "name": "stdout",
     "output_type": "stream",
     "text": [
      "Newton-Raphson Method for 2nd equation: (3.000001235308941, 5)\n"
     ]
    }
   ],
   "source": [
    "# Newton-Raphson Method\n",
    "a_newton,b_newton,error_newton = newton_raphson_method(f_2, f_prime_2, 4)\n",
    "print(\"Newton-Raphson Method for 2nd equation:\", (a_newton,b_newton))"
   ]
  },
  {
   "cell_type": "code",
   "execution_count": 100,
   "metadata": {},
   "outputs": [
    {
     "name": "stdout",
     "output_type": "stream",
     "text": [
      "Fixed-Point Iteration for 2nd equation: (3.000029721714171, 37)\n"
     ]
    }
   ],
   "source": [
    "# Fixed-Point Iteration\n",
    "a_fixed,b_fixed,error_fixed = fixed_point_iteration(g_2, 3.5)\n",
    "print(\"Fixed-Point Iteration for 2nd equation:\", (a_fixed,b_fixed))"
   ]
  },
  {
   "cell_type": "markdown",
   "metadata": {},
   "source": [
    "### Solving : $e^x-3x = 0$"
   ]
  },
  {
   "cell_type": "code",
   "execution_count": 101,
   "metadata": {},
   "outputs": [],
   "source": [
    "def f_3(x):\n",
    "    return math.exp(x) - 3*x\n",
    "\n",
    "def f_prime_3(x):\n",
    "    return math.exp(x) - 3\n",
    "\n",
    "def g_3(x):\n",
    "    if x == 0:\n",
    "        raise ValueError(\"Initial guess cannot be zero for this function.\")\n",
    "    return math.exp(x) / 3"
   ]
  },
  {
   "cell_type": "code",
   "execution_count": 102,
   "metadata": {},
   "outputs": [
    {
     "name": "stdout",
     "output_type": "stream",
     "text": [
      "Bisection Method for 3rd equation: (0.6190567016601562, 16)\n"
     ]
    }
   ],
   "source": [
    "# Bisection Method\n",
    "a_bisec,b_bisec,error_bisec = bisection_method(f_3, 0, 1)\n",
    "print(\"Bisection Method for 3rd equation:\", (a_bisec,b_bisec))"
   ]
  },
  {
   "cell_type": "code",
   "execution_count": 103,
   "metadata": {},
   "outputs": [
    {
     "name": "stdout",
     "output_type": "stream",
     "text": [
      "Secant Method for 3rd equation: (0.6190612867353384, 4)\n"
     ]
    }
   ],
   "source": [
    "# Secant Method\n",
    "a_sec,b_sec,error_sec = secant_method(f_3, 0.5, 0.6)\n",
    "print(\"Secant Method for 3rd equation:\", (a_sec,b_sec))"
   ]
  },
  {
   "cell_type": "code",
   "execution_count": 104,
   "metadata": {},
   "outputs": [
    {
     "name": "stdout",
     "output_type": "stream",
     "text": [
      "Newton-Raphson Method for 3rd equation: (0.6190612833553127, 3)\n"
     ]
    }
   ],
   "source": [
    "# Newton-Raphson Method\n",
    "a_newton,b_newton,error_newton = newton_raphson_method(f_3, f_prime_3, 0.5)\n",
    "print(\"Newton-Raphson Method for 3rd equation:\", (a_newton,b_newton))"
   ]
  },
  {
   "cell_type": "code",
   "execution_count": 105,
   "metadata": {},
   "outputs": [
    {
     "name": "stdout",
     "output_type": "stream",
     "text": [
      "Fixed-Point Iteration for 3rd equation: (0.6190499377473259, 19)\n"
     ]
    }
   ],
   "source": [
    "# Fixed-Point Iteration\n",
    "a_fixed,b_fixed,error_fixed = fixed_point_iteration(g_3, 0.5)\n",
    "print(\"Fixed-Point Iteration for 3rd equation:\", (a_fixed,b_fixed))"
   ]
  },
  {
   "cell_type": "markdown",
   "metadata": {},
   "source": [
    "### Solving : $sin (x) - 0.675 = 0$"
   ]
  },
  {
   "cell_type": "code",
   "execution_count": 106,
   "metadata": {},
   "outputs": [],
   "source": [
    "def f_4(x):\n",
    "    return math.sin(x) - 0.675\n",
    "\n",
    "def f_prime_4(x):\n",
    "    return math.cos(x)\n",
    "\n",
    "def g_4(x):\n",
    "    if x == 0:\n",
    "        raise ValueError(\"Initial guess cannot be zero for this function.\")\n",
    "    return math.asin(0.675)"
   ]
  },
  {
   "cell_type": "code",
   "execution_count": 107,
   "metadata": {},
   "outputs": [
    {
     "name": "stdout",
     "output_type": "stream",
     "text": [
      "Bisection Method for 4th equation: (0.7409591674804688, 16)\n"
     ]
    }
   ],
   "source": [
    "# Bisection Method\n",
    "a_bisec,b_bisec,error_bisec = bisection_method(f_4, 0, 1)\n",
    "print(\"Bisection Method for 4th equation:\", (a_bisec,b_bisec))"
   ]
  },
  {
   "cell_type": "code",
   "execution_count": 108,
   "metadata": {},
   "outputs": [
    {
     "name": "stdout",
     "output_type": "stream",
     "text": [
      "Secant Method for 4th equation: (0.7409647020473465, 5)\n"
     ]
    }
   ],
   "source": [
    "# Secant Method\n",
    "a_sec,b_sec,error_sec = secant_method(f_4, 0, 1)\n",
    "print(\"Secant Method for 4th equation:\", (a_sec,b_sec))"
   ]
  },
  {
   "cell_type": "code",
   "execution_count": 109,
   "metadata": {},
   "outputs": [
    {
     "name": "stdout",
     "output_type": "stream",
     "text": [
      "Newton-Raphson Method for 4th equation: (0.740964229829819, 3)\n"
     ]
    }
   ],
   "source": [
    "# Newton-Raphson Method\n",
    "a_newton,b_newton,error_newton = newton_raphson_method(f_4, f_prime_4, 1)\n",
    "print(\"Newton-Raphson Method for 4th equation:\", (a_newton,b_newton))"
   ]
  },
  {
   "cell_type": "code",
   "execution_count": 110,
   "metadata": {},
   "outputs": [
    {
     "name": "stdout",
     "output_type": "stream",
     "text": [
      "Fixed-Point Iteration for 4th equation: (0.74096470220302, 2)\n"
     ]
    }
   ],
   "source": [
    "# Fixed-Point Iteration\n",
    "a_fixed,b_fixed,error_fixed = fixed_point_iteration(g_4, 3)\n",
    "print(\"Fixed-Point Iteration for 4th equation:\", (a_fixed,b_fixed))"
   ]
  },
  {
   "cell_type": "markdown",
   "metadata": {},
   "source": [
    "# Question 2\n",
    "We need to solve the following system of non-linear coupled equations using newton rapson and fixed point iteration\n",
    "\n",
    "$$\n",
    "\\begin{align*}\n",
    "x^2 - y &= 1\\\\\n",
    "y^2 - x &= 1\n",
    "\\end{align*}\n",
    "$$"
   ]
  },
  {
   "cell_type": "code",
   "execution_count": 111,
   "metadata": {},
   "outputs": [],
   "source": [
    "def f(x,y):\n",
    "    F1 = x**2 - y - 1\n",
    "    F2 = y**2 - x - 1\n",
    "    F = np.array([F1, F2])\n",
    "    return F\n",
    "\n",
    "def Jacobian(x,y):\n",
    "    J = np.array([\n",
    "        [2*x, -1],\n",
    "        [-1, 2*y]\n",
    "    ])\n",
    "    return J\n",
    "\n",
    "def newton_raphson_multivariate(x0, tol=1e-6, max_iter=10000):\n",
    "    x, y = x0\n",
    "    error = np.array([]);\n",
    "    for i in range(max_iter):\n",
    "        F = f(x,y)\n",
    "        # Jacobian matrix\n",
    "        J = Jacobian(x,y)\n",
    "\n",
    "        try:\n",
    "            # Solve J * delta = -F\n",
    "            delta = np.linalg.solve(J, -F)\n",
    "        except np.linalg.LinAlgError:\n",
    "            raise ValueError(\"Jacobian matrix is singular, unable to solve.\")\n",
    "\n",
    "        # Update x and y\n",
    "        x, y = x + delta[0], y + delta[1]\n",
    "        # Find the error and append it\n",
    "        error = np.append(error, np.linalg.norm(delta)-tol)\n",
    "        # Check for convergence\n",
    "        if np.linalg.norm(delta) < tol:\n",
    "            return np.array([x, y]), i + 1, error\n",
    "\n",
    "    raise ValueError(\"Newton-Raphson method did not converge within the maximum number of iterations\")"
   ]
  },
  {
   "cell_type": "code",
   "execution_count": 112,
   "metadata": {},
   "outputs": [],
   "source": [
    "# Fixed-Point Iteration Method for Multivariate System\n",
    "def fixed_point_iteration_multivariate(x0, tol=1e-6, max_iter=100):\n",
    "    x, y = x0\n",
    "    error = np.array([]);\n",
    "    for i in range(max_iter):\n",
    "        x_new = np.sqrt(y + 1) if y + 1 >= 0 else np.nan\n",
    "        y_new = np.sqrt(x + 1) if x + 1 >= 0 else np.nan\n",
    "\n",
    "        if np.isnan(x_new) or np.isnan(y_new):\n",
    "            raise ValueError(\"Encountered invalid values during Fixed-Point Iteration.\")\n",
    "\n",
    "        # Check for convergence\n",
    "        error = np.append(error, np.linalg.norm([x_new - x, y_new - y])-tol)\n",
    "        if np.linalg.norm([x_new - x, y_new - y]) < tol:\n",
    "            return np.array([x_new, y_new]), i + 1, error\n",
    "\n",
    "        x, y = x_new, y_new\n",
    "\n",
    "    raise ValueError(\"Fixed-Point Iteration method did not converge within the maximum number of iterations\")"
   ]
  },
  {
   "cell_type": "code",
   "execution_count": 113,
   "metadata": {},
   "outputs": [
    {
     "name": "stdout",
     "output_type": "stream",
     "text": [
      "Newton-Raphson Method: Root = [1.61803399 1.61803399], Iterations = 5\n"
     ]
    }
   ],
   "source": [
    "# Initial guess and tolerance\n",
    "x0 = [1, 1]  # Initial guess\n",
    "tol = 1e-6\n",
    "\n",
    "# Solving using Newton-Raphson Method\n",
    "try:\n",
    "    root_newton, iter_newton, error1 = newton_raphson_multivariate(x0, tol)\n",
    "    print(f\"Newton-Raphson Method: Root = {root_newton}, Iterations = {iter_newton}\")\n",
    "except ValueError as e:\n",
    "    print(f\"Newton-Raphson Method failed: {e}\")\n"
   ]
  },
  {
   "cell_type": "code",
   "execution_count": 114,
   "metadata": {},
   "outputs": [
    {
     "name": "stdout",
     "output_type": "stream",
     "text": [
      "Fixed-Point Iteration Method: Root = [1.61803367 1.61803367], Iterations = 13\n"
     ]
    }
   ],
   "source": [
    "x0 = [0.5, 0.5]  # Initial guess\n",
    "tol = 1e-6\n",
    "# Solving using Fixed-Point Iteration Method\n",
    "try:\n",
    "    root_fixed, iter_fixed, error2 = fixed_point_iteration_multivariate(x0, tol)\n",
    "    print(f\"Fixed-Point Iteration Method: Root = {root_fixed}, Iterations = {iter_fixed}\")\n",
    "except ValueError as e:\n",
    "    print(f\"Fixed-Point Iteration Method failed: {e}\")"
   ]
  },
  {
   "cell_type": "code",
   "execution_count": 115,
   "metadata": {},
   "outputs": [
    {
     "data": {
      "image/png": "[encoded data removed]",
      "text/plain": [
       "<Figure size 640x480 with 1 Axes>"
      ]
     },
     "metadata": {},
     "output_type": "display_data"
    }
   ],
   "source": [
    "# Plot the errors\n",
    "plt.plot(range(1, iter_newton + 1), error1, label='Newton-Raphson')\n",
    "plt.plot(range(1, iter_fixed + 1), error2, label='Fixed-Point Iteration')\n",
    "plt.xlabel('Iteration')\n",
    "plt.ylabel('Error')\n",
    "plt.title('Convergence of Methods')\n",
    "plt.legend()\n",
    "plt.grid(True)\n",
    "plt.show()"
   ]
  },
  {
   "cell_type": "code",
   "execution_count": null,
   "metadata": {},
   "outputs": [],
   "source": []
  }
 ],
 "metadata": {
  "kernelspec": {
   "display_name": "Python 3",
   "language": "python",
   "name": "python3"
  },
  "language_info": {
   "codemirror_mode": {
    "name": "ipython",
    "version": 3
   },
   "file_extension": ".py",
   "mimetype": "text/x-python",
   "name": "python",
   "nbconvert_exporter": "python",
   "pygments_lexer": "ipython3",
   "version": "3.12.1"
  }
 },
 "nbformat": 4,
 "nbformat_minor": 2
}
